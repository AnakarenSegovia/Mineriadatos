{
  "nbformat": 4,
  "nbformat_minor": 0,
  "metadata": {
    "colab": {
      "name": "Ej_Python_1981779.ipynb",
      "provenance": [],
      "collapsed_sections": []
    },
    "kernelspec": {
      "name": "python3",
      "display_name": "Python 3"
    }
  },
  "cells": [
    {
      "cell_type": "code",
      "metadata": {
        "id": "YoTdeASDmwZX"
      },
      "source": [
        "##EJERCICIO 1: Realiza una variable con tu matricula y realiza una secuencia de imprimir con tu nombre y matricula\r\n",
        "\r\n",
        "print(\"Anakaren Segovia González 1981779\")\r\n"
      ],
      "execution_count": null,
      "outputs": []
    },
    {
      "cell_type": "code",
      "metadata": {
        "id": "R84OF2L7oVYf"
      },
      "source": [
        "##EJERCICIO 2: Pide dos numeros y crea una pequeña calculadora con los operadores basicos de suma, resta, multiplicacion, division. \r\n",
        "#Nota: la cualcuadora con exponente se encuentra en el ejercicio 5\r\n",
        "n1 = float(input(\"Introduce un número: \") )\r\n",
        "n2 = float(input(\"Introduce otro número: \") )\r\n",
        "\r\n",
        "opcion = 0\r\n",
        "while True:\r\n",
        "    print(\"\"\"\r\n",
        "    ¿Qué quieres hacer?\r\n",
        "    1) Sumar los dos números\r\n",
        "    2) Restar los dos números\r\n",
        "    3) Multiplicar los dos números\r\n",
        "    4) Salir\r\n",
        "    \"\"\")\r\n",
        "    opcion = int(input(\"Introduce un número: \") )     \r\n",
        "\r\n",
        "    if opcion == 1:\r\n",
        "        print(\"La suma de\",n1,\"+\",n2,\"es\",n1+n2)\r\n",
        "    elif opcion == 2:\r\n",
        "        print(\"La resta de\",n1,\"-\",n2,\"es\",n1-n2)\r\n",
        "    elif opcion == 3:\r\n",
        "        print(\"El producto de\",n1,\"*\",n2,\"es\",n1*n2)\r\n",
        "    elif opcion == 4:\r\n",
        "        break\r\n",
        "    else:\r\n",
        "        print(\"Opción incorrecta\")"
      ],
      "execution_count": null,
      "outputs": []
    },
    {
      "cell_type": "code",
      "metadata": {
        "id": "ABGPNr1ZpSsH"
      },
      "source": [
        "##Ejercicio 3: Realiza una lista de 10 numeros multiplos de 3, y despues raeliza una funcion que sume todos dentro de un arreglo\r\n",
        "// Listar los multiplos de un número\r\n",
        "// Multiplos de 3\r\n",
        "int multiplo = 3;\r\n",
        "System.out.print(\"Los multiplos de \" + multiplo + \" son\");\r\n",
        "for (int x=1;x<multiplo;x++){\r\n",
        "\tif (esMultiplo(multiplo,x)){\r\n",
        "\t\tSystem.out.print(\" \" + x);\r\n",
        "\t}\r\n",
        "}"
      ],
      "execution_count": null,
      "outputs": []
    },
    {
      "cell_type": "code",
      "metadata": {
        "colab": {
          "base_uri": "https://localhost:8080/"
        },
        "id": "m03XNtJXm-QV",
        "outputId": "a6171574-0d0e-4b35-c027-6d8c5e77302c"
      },
      "source": [
        "##Ejercico 4:  par o es impar.\r\n",
        "def main():\r\n",
        "    print(\"PARES E IMPARES\")\r\n",
        "    numero_1 = int(input(\"Escriba un número entero: \"))\r\n",
        "    numero_2 = int(input(f\"Escriba un número entero mayor o igual que {numero_1}: \"))\r\n",
        "\r\n",
        "    if numero_2 < numero_1:\r\n",
        "        print(f\"¡Le he pedido un número entero mayor o igual que {numero_1}!\")\r\n",
        "    else:\r\n",
        "        for i in range(numero_1, numero_2 + 1):\r\n",
        "            if i % 2 == 0:\r\n",
        "                print(f\"El número {i} es par.\")\r\n",
        "            else:\r\n",
        "                print(f\"El número {i} es impar.\")\r\n",
        "\r\n",
        "\r\n",
        "if __name__ == \"__main__\":\r\n",
        "    main()"
      ],
      "execution_count": null,
      "outputs": [
        {
          "output_type": "stream",
          "text": [
            "PARES E IMPARES\n",
            "Escriba un número entero: 2\n",
            "Escriba un número entero mayor o igual que 2: 3\n",
            "El número 2 es par.\n",
            "El número 3 es impar.\n"
          ],
          "name": "stdout"
        }
      ]
    },
    {
      "cell_type": "code",
      "metadata": {
        "id": "GCf3-ZDUmLwH",
        "colab": {
          "base_uri": "https://localhost:8080/"
        },
        "outputId": "6e20e3e1-b8ef-432e-a58b-0d330e85b8ae"
      },
      "source": [
        "#Con funcion if else, revisa si un numero es primo o no\r\n",
        "def isPrime(num):\r\n",
        "    if num < 1:\r\n",
        "        return False\r\n",
        "    elif num == 2:\r\n",
        "        return True\r\n",
        "    else:\r\n",
        "        for i in range(2, num):\r\n",
        "            if num % i == 0:\r\n",
        "                return False\r\n",
        "        return True            \r\n",
        "\r\n",
        "def app():\r\n",
        "    num = int(input('Escribe un numero: '))\r\n",
        "    result = isPrime(num)\r\n",
        "\r\n",
        "    if result is True:\r\n",
        "        print('El numero es primo!!')\r\n",
        "    else:\r\n",
        "        print('El numero no es primo!!')\r\n",
        "\r\n",
        "if __name__ == '__main__':\r\n",
        "    app()\r\n"
      ],
      "execution_count": null,
      "outputs": [
        {
          "output_type": "stream",
          "text": [
            "Escribe un numero: 2\n",
            "El numero es primo!!\n"
          ],
          "name": "stdout"
        }
      ]
    },
    {
      "cell_type": "code",
      "metadata": {
        "id": "bb6RBUt3rOle"
      },
      "source": [
        ""
      ],
      "execution_count": null,
      "outputs": []
    },
    {
      "cell_type": "code",
      "metadata": {
        "id": "gfvDVNQgrRVu"
      },
      "source": [
        "##Ejercicio 5: Crea una calculadora con los operadoes básicos de suma, resta, muktiplicación, division y exponente\r\n",
        "def Menu():\r\n",
        "    \"\"\"Funcion que Muestra el Menu\"\"\"\r\n",
        "    print \"\"\"************\r\n",
        "Calculadora\r\n",
        "************\r\n",
        "Menu\r\n",
        "1) Suma\r\n",
        "2) Resta\r\n",
        "3) Multiplicacion\r\n",
        "4) Exponente\r\n",
        "4) Division\r\n",
        "5) Salir\"\"\"\r\n",
        "def Calculadora():\r\n",
        "    \"\"\"Funcion Para Calcular Operaciones Aritmeticas\"\"\"\r\n",
        "    Menu()\r\n",
        "    opc = int(input(\"Selecione Opcion\\n\"))\r\n",
        "    while (opc >0 and opc <6):\r\n",
        "        x = int(input(\"Ingrese Numero\\n\"))\r\n",
        "        y = int(input(\"Ingrese Otro Numero\\n\"))\r\n",
        "        if (opc==1):\r\n",
        "            print \"La Suma es:\", x+y\r\n",
        "            opc = int(input(\"Selecione Opcion\\n\"))\r\n",
        "        elif(opc==2):\r\n",
        "            print \"La Resta es:\",x-y\r\n",
        "            opc = int(input(\"Selecione Opcion\\n\"))\r\n",
        "        elif(opc==3):\r\n",
        "            print \"La Multiplicacion es:\",x*y\r\n",
        "            opc = int(input(\"Selecione Opcion\\n\"))\r\n",
        "        elif(opc==4):\r\n",
        "            print \"exponente es:\",x**y\r\n",
        "            opc = int(input(\"Selecione Opcion\\n\")) \r\n",
        "        elif(opc==5):\r\n",
        "            try:\r\n",
        "              print \"La Division es:\", x/y\r\n",
        "              opc = int(input(\"Selecione Opcion\\n\"))\r\n",
        "            except ZeroDivisionError:\r\n",
        "              print \"No se Permite la Division Entre 0\"\r\n",
        "              opc = int(input(\"Selecione Opcion\\n\"))\r\n",
        "Calculadora()"
      ],
      "execution_count": null,
      "outputs": []
    },
    {
      "cell_type": "code",
      "metadata": {
        "id": "Y9Y5X6eXc0RX"
      },
      "source": [
        "##Tuplas:\r\n",
        "##Crear una variable flotante, integer, boleana y compleja e imprimir el tipo de variable que es\r\n",
        "print(\"Seleccione una opcion de las siguientes:\")\r\n",
        "m= int(input(\"1. Número Decimal\\ 2. Número Entero\\ 3.Boolean\\ 4.Número complejo\"))\r\n",
        "if m==1: \r\n",
        "    a= float(input(\"Ingrese un numero decimal \"))\r\n",
        "    print(a, \"es un número decimal\")\r\n",
        "elif m==2:\r\n",
        "    b= int(input(\"Ingrese un entero\"))\r\n",
        "    print(b, \"es un número entero\")\r\n",
        "elif m==3:\r\n",
        "    print(\"Seleccione una opcion\")\r\n",
        "    c= int(input(\"1. Verdadero/ 2. Falso\"))\r\n",
        "    if c==1:\r\n",
        "        print(\"True\")\r\n",
        "    else:\r\n",
        "        print(\"False\")\r\n",
        "elif m==4:\r\n",
        "    d= complex(input(\"Ingrese un numero complejo\"))\r\n",
        "    print(d,\"es un número complejo\")\r\n",
        "    [18:56, 1/3/2021] Victoria: ##Crear una tupla con valores enteros imprimir el primer y ultimo valor\r\n",
        "\r\n",
        "num= (4,5,39,92,67)\r\n",
        "print ( num[0] , num[4])}}\r\n",
        "[18:56, 1/3/2021] Victoria: ##Añadir 3 valores de string a la tupla\r\n",
        "t= (0,1,2)\r\n",
        "\r\n",
        "a= str(input(\"Ingresa tu nombre\"))\r\n",
        "b= str(input(\"Ingtresa tu matricula\"))\r\n",
        "c= str(input(\"Ingresa tu edad\"))\r\n",
        "t=(a,b,c)\r\n",
        "print(t)\r\n",
        "[18:56, 1/3/2021] Victoria: ##Verifica si una var existe en una tupla \r\n",
        "t=[2,5,6,3,4,9,2]\r\n",
        "n= int(input(\"Ingrese el número que desea buscar\"))\r\n",
        "\r\n",
        "if n in t:\r\n",
        "    print(\"El numero está dentro de la tupla\")\r\n",
        "else:\r\n",
        "    print(\"El número \")"
      ],
      "execution_count": null,
      "outputs": []
    },
    {
      "cell_type": "code",
      "metadata": {
        "id": "xV8sODgxP7Qb"
      },
      "source": [
        "##LISTAS\r\n",
        "i=0\r\n",
        "n=40\r\n",
        "aleatorios = [random.randint(0,1000) for _ in range(n)]\r\n",
        "print(aleatorios)\r\n",
        "\r\n",
        "##Con una funcion def crear dos listas nuevas a partir de la lista creada por numeros aleatorios \r\n",
        "##en la cual en una esten los elementos pares y en la otra los impares\r\n",
        "lista1= []\r\n",
        "lista2=[]\r\n",
        "for i in range(len(aleatorios)):\r\n",
        "    \r\n",
        "    if aleatorios[i]%2==0:\r\n",
        "        lista1.append(aleatorios[i])\r\n",
        "    else: \r\n",
        "        lista2.append(aleatorios[i])\r\n",
        "i=i+1\r\n",
        "print(\"Lista de pares:\", lista1)\r\n",
        "print(\"Lista de impares:\", lista2)\r\n",
        "\r\n",
        "##Ordenar los elementos de las nuevas listas de menor a mayor \r\n",
        "ordenpar= sorted(lista1)\r\n",
        "ordenimpar=sorted(lista2)\r\n",
        "print(\"Pares de menor a mayor:\", ordenpar)\r\n",
        "print(\"Impares de menor a mayor\", ordenimpar)\r\n"
      ],
      "execution_count": null,
      "outputs": []
    },
    {
      "cell_type": "code",
      "metadata": {
        "id": "qocXnDTKQJOG"
      },
      "source": [
        ""
      ],
      "execution_count": null,
      "outputs": []
    }
  ]
}