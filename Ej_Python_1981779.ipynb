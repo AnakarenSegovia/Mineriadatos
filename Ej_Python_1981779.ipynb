{
  "nbformat": 4,
  "nbformat_minor": 0,
  "metadata": {
    "colab": {
      "name": "EJ_Python_1981779.ipynb",
      "provenance": [],
      "collapsed_sections": []
    },
    "kernelspec": {
      "name": "python3",
      "display_name": "Python 3"
    }
  },
  "cells": [
    {
      "cell_type": "code",
      "metadata": {
        "colab": {
          "base_uri": "https://localhost:8080/"
        },
        "id": "YoTdeASDmwZX",
        "outputId": "ee14d1c9-dfba-49c9-c807-04249bb222cd"
      },
      "source": [
        "print(\"Anakaren Segovia González 1981779\")\r\n"
      ],
      "execution_count": null,
      "outputs": [
        {
          "output_type": "stream",
          "text": [
            "Anakaren Segovia González 1981779\n"
          ],
          "name": "stdout"
        }
      ]
    },
    {
      "cell_type": "code",
      "metadata": {
        "id": "R84OF2L7oVYf"
      },
      "source": [
        "n1 = float(input(\"Introduce un número: \") )\r\n",
        "n2 = float(input(\"Introduce otro número: \") )\r\n",
        "\r\n",
        "opcion = 0\r\n",
        "while True:\r\n",
        "    print(\"\"\"\r\n",
        "    ¿Qué quieres hacer?\r\n",
        "    1) Sumar los dos números\r\n",
        "    2) Restar los dos números\r\n",
        "    3) Multiplicar los dos números\r\n",
        "    4) Salir\r\n",
        "    \"\"\")\r\n",
        "    opcion = int(input(\"Introduce un número: \") )     \r\n",
        "\r\n",
        "    if opcion == 1:\r\n",
        "        print(\"La suma de\",n1,\"+\",n2,\"es\",n1+n2)\r\n",
        "    elif opcion == 2:\r\n",
        "        print(\"La resta de\",n1,\"-\",n2,\"es\",n1-n2)\r\n",
        "    elif opcion == 3:\r\n",
        "        print(\"El producto de\",n1,\"*\",n2,\"es\",n1*n2)\r\n",
        "    elif opcion == 4:\r\n",
        "        break\r\n",
        "    else:\r\n",
        "        print(\"Opción incorrecta\")"
      ],
      "execution_count": null,
      "outputs": []
    },
    {
      "cell_type": "code",
      "metadata": {
        "id": "ABGPNr1ZpSsH"
      },
      "source": [
        "// Listar los multiplos de un número\r\n",
        "// Multiplos de 3\r\n",
        "int multiplo = 3;\r\n",
        "System.out.print(\"Los multiplos de \" + multiplo + \" son\");\r\n",
        "for (int x=1;x<multiplo;x++){\r\n",
        "\tif (esMultiplo(multiplo,x)){\r\n",
        "\t\tSystem.out.print(\" \" + x);\r\n",
        "\t}\r\n",
        "}"
      ],
      "execution_count": null,
      "outputs": []
    },
    {
      "cell_type": "code",
      "metadata": {
        "id": "dMURRyXwqI3Y"
      },
      "source": [
        "i=0\r\n",
        "n=40\r\n",
        "aleatorios = [random.randint(0,1000) for _ in range(n)]\r\n",
        "print(aleatorios)\r\n",
        "\r\n",
        "##Con una funcion def crear dos listas nuevas a partir de la lista creada por numeros aleatorios \r\n",
        "##en la cual en una esten los elementos pares y en la otra los impares\r\n",
        "lista1= []\r\n",
        "lista2=[]\r\n",
        "for i in range(len(aleatorios)):\r\n",
        "    \r\n",
        "    if aleatorios[i]%2==0:\r\n",
        "        lista1.append(aleatorios[i])\r\n",
        "    else: \r\n",
        "        lista2.append(aleatorios[i])\r\n",
        "i=i+1\r\n",
        "print(\"Lista de pares:\", lista1)\r\n",
        "print(\"Lista de impares:\", lista2)\r\n",
        "\r\n",
        "##Ordenar los elementos de las nuevas listas de menor a mayor \r\n",
        "ordenpar= sorted(lista1)\r\n",
        "ordenimpar=sorted(lista2)\r\n",
        "print(\"Pares de menor a mayor:\", ordenpar)\r\n",
        "print(\"Impares de menor a mayor\", ordenimpar)"
      ],
      "execution_count": null,
      "outputs": []
    },
    {
      "cell_type": "code",
      "metadata": {
        "id": "bb6RBUt3rOle"
      },
      "source": [
        ""
      ],
      "execution_count": null,
      "outputs": []
    },
    {
      "cell_type": "code",
      "metadata": {
        "id": "gfvDVNQgrRVu"
      },
      "source": [
        "def Menu():\r\n",
        "    \"\"\"Funcion que Muestra el Menu\"\"\"\r\n",
        "    print \"\"\"************\r\n",
        "Calculadora\r\n",
        "************\r\n",
        "Menu\r\n",
        "1) Suma\r\n",
        "2) Resta\r\n",
        "3) Multiplicacion\r\n",
        "4) Exponente\r\n",
        "4) Division\r\n",
        "5) Salir\"\"\"\r\n",
        "def Calculadora():\r\n",
        "    \"\"\"Funcion Para Calcular Operaciones Aritmeticas\"\"\"\r\n",
        "    Menu()\r\n",
        "    opc = int(input(\"Selecione Opcion\\n\"))\r\n",
        "    while (opc >0 and opc <6):\r\n",
        "        x = int(input(\"Ingrese Numero\\n\"))\r\n",
        "        y = int(input(\"Ingrese Otro Numero\\n\"))\r\n",
        "        if (opc==1):\r\n",
        "            print \"La Suma es:\", x+y\r\n",
        "            opc = int(input(\"Selecione Opcion\\n\"))\r\n",
        "        elif(opc==2):\r\n",
        "            print \"La Resta es:\",x-y\r\n",
        "            opc = int(input(\"Selecione Opcion\\n\"))\r\n",
        "        elif(opc==3):\r\n",
        "            print \"La Multiplicacion es:\",x*y\r\n",
        "            opc = int(input(\"Selecione Opcion\\n\"))\r\n",
        "        elif(opc==4):\r\n",
        "            print \"exponente es:\",x**y\r\n",
        "            opc = int(input(\"Selecione Opcion\\n\")) \r\n",
        "        elif(opc==5):\r\n",
        "            try:\r\n",
        "              print \"La Division es:\", x/y\r\n",
        "              opc = int(input(\"Selecione Opcion\\n\"))\r\n",
        "            except ZeroDivisionError:\r\n",
        "              print \"No se Permite la Division Entre 0\"\r\n",
        "              opc = int(input(\"Selecione Opcion\\n\"))\r\n",
        "Calculadora()"
      ],
      "execution_count": null,
      "outputs": []
    }
  ]
}